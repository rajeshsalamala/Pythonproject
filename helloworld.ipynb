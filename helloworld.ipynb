a= input("enteryour first number") # default input will take it as string s0 5+5=55(string+string)
b= input("enteryour second number")

print ("-"*30)
print ("addition of{0} and  {1} is {2}".format (a,b,a+b))
